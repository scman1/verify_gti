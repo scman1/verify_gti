{
  "nbformat": 4,
  "nbformat_minor": 0,
  "metadata": {
    "accelerator": "GPU",
    "colab": {
      "name": "TestYoloV3woPoetry.ipynb",
      "provenance": [],
      "mount_file_id": "1w-Z_NLC4pAAq1DLEQ1kjPfwIld0L-nks",
      "authorship_tag": "ABX9TyNvJTy/ZaEk62WoSpgrJdhY",
      "include_colab_link": true
    },
    "kernelspec": {
      "display_name": "Python 3",
      "name": "python3"
    },
    "language_info": {
      "name": "python"
    }
  },
  "cells": [
    {
      "cell_type": "markdown",
      "metadata": {
        "id": "view-in-github",
        "colab_type": "text"
      },
      "source": [
        "<a href=\"https://colab.research.google.com/github/scman1/verify_gti/blob/master/TestYoloV3woPoetry.ipynb\" target=\"_parent\"><img src=\"https://colab.research.google.com/assets/colab-badge.svg\" alt=\"Open In Colab\"/></a>"
      ]
    },
    {
      "cell_type": "markdown",
      "metadata": {
        "id": "XvTOPobtsvFO"
      },
      "source": [
        "# Predict YoloV3\n",
        "This notebook is used to test the predictions from the custom trained model. The images to run the predictor on are saved on the data folder.\n",
        "\n",
        "## Install requirements and initialise\n",
        "Go to the directory where the code is stored and install requirements. "
      ]
    },
    {
      "cell_type": "code",
      "metadata": {
        "colab": {
          "base_uri": "https://localhost:8080/"
        },
        "id": "8N3nZLfm7wQK",
        "outputId": "4d427510-8eae-43c2-ff6d-39b7e7da9fdc"
      },
      "source": [
        "%cd /content/drive/MyDrive/yv3\n",
        "%pip install -r requirements.txt\n",
        "\n",
        "import torch\n",
        "from IPython.display import Image, clear_output  # to display images\n",
        "\n",
        "clear_output()\n",
        "print(f\"Setup complete. Using torch {torch.__version__} ({torch.cuda.get_device_properties(0).name if torch.cuda.is_available() else 'CPU'})\")"
      ],
      "execution_count": 4,
      "outputs": [
        {
          "output_type": "stream",
          "name": "stdout",
          "text": [
            "Setup complete. Using torch 1.9.0+cu111 (Tesla K80)\n"
          ]
        }
      ]
    },
    {
      "cell_type": "markdown",
      "metadata": {
        "id": "XzHYgKu7ksDF"
      },
      "source": [
        "## Run detection\n",
        "\n",
        "\n"
      ]
    },
    {
      "cell_type": "code",
      "metadata": {
        "colab": {
          "base_uri": "https://localhost:8080/"
        },
        "id": "5EmX1Yo9rS3G",
        "outputId": "9014d80f-a0da-4491-be7f-cd1ae617f544"
      },
      "source": [
        "!python detect.py --images data/rbgk/test_images -w weights/rbgk_weights/yolov3-rbgk_5000.weights -c data/rbgk/classes.names -m config/yolov3-rbgk.cfg"
      ],
      "execution_count": 6,
      "outputs": [
        {
          "output_type": "stream",
          "name": "stdout",
          "text": [
            "Namespace(batch_size=1, classes='data/rbgk/classes.names', conf_thres=0.5, images='data/rbgk/test_images', img_size=416, model='config/yolov3-rbgk.cfg', n_cpu=8, nms_thres=0.4, output='output', weights='weights/rbgk_weights/yolov3-rbgk_5000.weights')\n",
            "/usr/local/lib/python3.7/dist-packages/torch/utils/data/dataloader.py:481: UserWarning: This DataLoader will create 8 worker processes in total. Our suggested max number of worker in current system is 2, which is smaller than what this DataLoader is going to create. Please be aware that excessive worker creation might get DataLoader running slow or even freeze, lower the worker number to avoid potential slowness/freeze if necessary.\n",
            "  cpuset_checked))\n",
            "Detecting: 100% 70/70 [00:06<00:00, 11.23it/s]\n",
            "Saving output images: 0it [00:00, ?it/s]\t+ Label: Specimen | Confidence: 0.9229\n",
            "Saving output images: 1it [00:00,  4.37it/s]\t+ Label: Specimen | Confidence: 0.8872\n",
            "Saving output images: 2it [00:00,  5.09it/s]\t+ Label: Barcode | Confidence: 0.6818\n",
            "Saving output images: 3it [00:00,  4.53it/s]\t+ Label: Barcode | Confidence: 0.9359\n",
            "\t+ Label: Specimen | Confidence: 0.9242\n",
            "\t+ Label: Specimen | Confidence: 0.8721\n",
            "\t+ Label: Specimen | Confidence: 0.7278\n",
            "Saving output images: 4it [00:00,  4.62it/s]\t+ Label: Barcode | Confidence: 0.5631\n",
            "Saving output images: 5it [00:01,  5.03it/s]\t+ Label: Barcode | Confidence: 0.7626\n",
            "\t+ Label: Specimen | Confidence: 0.7175\n",
            "Saving output images: 6it [00:01,  5.14it/s]\t+ Label: Specimen | Confidence: 0.8766\n",
            "\t+ Label: Specimen | Confidence: 0.7524\n",
            "Saving output images: 8it [00:01,  5.49it/s]\t+ Label: Specimen | Confidence: 0.7152\n",
            "\t+ Label: Specimen | Confidence: 0.6567\n",
            "Saving output images: 9it [00:01,  5.50it/s]\t+ Label: Barcode | Confidence: 0.7291\n",
            "Saving output images: 10it [00:01,  5.57it/s]\t+ Label: Barcode | Confidence: 0.9236\n",
            "\t+ Label: Specimen | Confidence: 0.8000\n",
            "\t+ Label: Specimen | Confidence: 0.6687\n",
            "Saving output images: 11it [00:02,  5.42it/s]\t+ Label: Specimen | Confidence: 0.8127\n",
            "\t+ Label: Specimen | Confidence: 0.7781\n",
            "Saving output images: 12it [00:02,  5.46it/s]\t+ Label: Barcode | Confidence: 0.9202\n",
            "Saving output images: 13it [00:02,  5.63it/s]\t+ Label: Specimen | Confidence: 0.9768\n",
            "\t+ Label: Specimen | Confidence: 0.7303\n",
            "\t+ Label: Barcode | Confidence: 0.7236\n",
            "Saving output images: 15it [00:02,  5.65it/s]\t+ Label: Specimen | Confidence: 0.9873\n",
            "\t+ Label: Barcode | Confidence: 0.7225\n",
            "\t+ Label: Barcode | Confidence: 0.7016\n",
            "Saving output images: 16it [00:03,  5.57it/s]\t+ Label: Barcode | Confidence: 0.7685\n",
            "Saving output images: 18it [00:03,  5.70it/s]\t+ Label: Barcode | Confidence: 0.6936\n",
            "Saving output images: 19it [00:03,  5.74it/s]detect.py:184: RuntimeWarning: More than 20 figures have been opened. Figures created through the pyplot interface (`matplotlib.pyplot.figure`) are retained until explicitly closed and may consume too much memory. (To control this warning, see the rcParam `figure.max_open_warning`).\n",
            "  fig, ax = plt.subplots(1)\n",
            "\t+ Label: Barcode | Confidence: 0.6956\n",
            "Saving output images: 20it [00:03,  5.60it/s]detect.py:183: RuntimeWarning: More than 20 figures have been opened. Figures created through the pyplot interface (`matplotlib.pyplot.figure`) are retained until explicitly closed and may consume too much memory. (To control this warning, see the rcParam `figure.max_open_warning`).\n",
            "  plt.figure()\n",
            "\t+ Label: Specimen | Confidence: 0.9438\n",
            "Saving output images: 21it [00:03,  5.61it/s]\t+ Label: Barcode | Confidence: 0.5962\n",
            "Saving output images: 22it [00:04,  5.67it/s]\t+ Label: Specimen | Confidence: 0.8790\n",
            "Saving output images: 23it [00:04,  5.67it/s]\t+ Label: Barcode | Confidence: 0.8766\n",
            "Saving output images: 24it [00:04,  4.96it/s]\t+ Label: Specimen | Confidence: 0.9261\n",
            "Saving output images: 25it [00:04,  4.53it/s]\t+ Label: Barcode | Confidence: 0.9069\n",
            "Saving output images: 27it [00:05,  5.22it/s]\t+ Label: Specimen | Confidence: 0.9105\n",
            "\t+ Label: Specimen | Confidence: 0.5649\n",
            "Saving output images: 29it [00:05,  5.58it/s]\t+ Label: Specimen | Confidence: 0.9749\n",
            "Saving output images: 30it [00:05,  5.60it/s]\t+ Label: Specimen | Confidence: 0.8376\n",
            "\t+ Label: Specimen | Confidence: 0.8139\n",
            "Saving output images: 31it [00:05,  5.56it/s]\t+ Label: Barcode | Confidence: 0.8963\n",
            "Saving output images: 32it [00:05,  5.59it/s]\t+ Label: Barcode | Confidence: 0.8739\n",
            "\t+ Label: Specimen | Confidence: 0.6918\n",
            "Saving output images: 33it [00:06,  5.50it/s]\t+ Label: Specimen | Confidence: 0.9739\n",
            "\t+ Label: Specimen | Confidence: 0.9087\n",
            "Saving output images: 34it [00:06,  5.46it/s]\t+ Label: Specimen | Confidence: 0.8773\n",
            "\t+ Label: Specimen | Confidence: 0.7695\n",
            "\t+ Label: Specimen | Confidence: 0.7509\n",
            "Saving output images: 35it [00:06,  5.41it/s]\t+ Label: Specimen | Confidence: 0.8703\n",
            "\t+ Label: Specimen | Confidence: 0.6787\n",
            "Saving output images: 37it [00:06,  5.55it/s]\t+ Label: Barcode | Confidence: 0.8759\n",
            "Saving output images: 38it [00:07,  5.61it/s]\t+ Label: Barcode | Confidence: 0.8989\n",
            "Saving output images: 39it [00:07,  5.54it/s]\t+ Label: Barcode | Confidence: 0.8031\n",
            "Saving output images: 40it [00:07,  5.61it/s]\t+ Label: Specimen | Confidence: 0.9782\n",
            "\t+ Label: Specimen | Confidence: 0.9669\n",
            "\t+ Label: Barcode | Confidence: 0.8050\n",
            "Saving output images: 41it [00:07,  5.47it/s]\t+ Label: Barcode | Confidence: 0.9068\n",
            "Saving output images: 42it [00:07,  4.61it/s]\t+ Label: Specimen | Confidence: 0.9458\n",
            "\t+ Label: Barcode | Confidence: 0.9286\n",
            "\t+ Label: Specimen | Confidence: 0.8698\n",
            "Saving output images: 43it [00:08,  4.81it/s]\t+ Label: Barcode | Confidence: 0.6463\n",
            "Saving output images: 44it [00:08,  5.04it/s]\t+ Label: Specimen | Confidence: 0.9899\n",
            "\t+ Label: Specimen | Confidence: 0.9797\n",
            "\t+ Label: Specimen | Confidence: 0.8739\n",
            "Saving output images: 45it [00:08,  4.47it/s]\t+ Label: Barcode | Confidence: 0.8398\n",
            "Saving output images: 46it [00:08,  4.78it/s]\t+ Label: Specimen | Confidence: 0.8077\n",
            "\t+ Label: Specimen | Confidence: 0.6728\n",
            "Saving output images: 47it [00:08,  5.02it/s]\t+ Label: Specimen | Confidence: 0.9892\n",
            "Saving output images: 48it [00:09,  5.29it/s]\t+ Label: Barcode | Confidence: 0.9410\n",
            "\t+ Label: Specimen | Confidence: 0.8328\n",
            "Saving output images: 49it [00:09,  5.40it/s]\t+ Label: Barcode | Confidence: 0.9482\n",
            "Saving output images: 50it [00:09,  5.47it/s]\t+ Label: Barcode | Confidence: 0.8838\n",
            "Saving output images: 51it [00:09,  5.49it/s]\t+ Label: Specimen | Confidence: 0.9978\n",
            "\t+ Label: Specimen | Confidence: 0.8064\n",
            "Saving output images: 52it [00:09,  5.50it/s]\t+ Label: Specimen | Confidence: 0.7949\n",
            "\t+ Label: Barcode | Confidence: 0.7336\n",
            "Saving output images: 54it [00:10,  5.72it/s]\t+ Label: Barcode | Confidence: 0.5819\n",
            "\t+ Label: Specimen | Confidence: 0.5272\n",
            "Saving output images: 55it [00:10,  5.24it/s]\t+ Label: Barcode | Confidence: 0.8880\n",
            "\t+ Label: Barcode | Confidence: 0.5724\n",
            "Saving output images: 57it [00:10,  5.46it/s]\t+ Label: Barcode | Confidence: 0.9495\n",
            "\t+ Label: Specimen | Confidence: 0.8579\n",
            "\t+ Label: Specimen | Confidence: 0.8454\n",
            "Saving output images: 58it [00:10,  5.34it/s]\t+ Label: Specimen | Confidence: 0.8121\n",
            "\t+ Label: Barcode | Confidence: 0.6652\n",
            "Saving output images: 59it [00:11,  5.39it/s]\t+ Label: Barcode | Confidence: 0.9144\n",
            "Saving output images: 60it [00:11,  4.72it/s]\t+ Label: Barcode | Confidence: 0.9199\n",
            "\t+ Label: Specimen | Confidence: 0.8657\n",
            "Saving output images: 62it [00:11,  5.08it/s]\t+ Label: Barcode | Confidence: 0.8018\n",
            "Saving output images: 64it [00:12,  5.44it/s]\t+ Label: Barcode | Confidence: 0.9300\n",
            "\t+ Label: Specimen | Confidence: 0.7837\n",
            "Saving output images: 66it [00:12,  5.60it/s]\t+ Label: Specimen | Confidence: 0.9471\n",
            "\t+ Label: Barcode | Confidence: 0.7995\n",
            "Saving output images: 67it [00:12,  4.68it/s]\t+ Label: Specimen | Confidence: 0.8973\n",
            "Saving output images: 68it [00:12,  4.97it/s]\t+ Label: Barcode | Confidence: 0.8443\n",
            "\t+ Label: Specimen | Confidence: 0.5646\n",
            "Saving output images: 69it [00:13,  5.09it/s]\t+ Label: Barcode | Confidence: 0.8801\n",
            "\t+ Label: Specimen | Confidence: 0.8741\n",
            "\t+ Label: Specimen | Confidence: 0.8495\n",
            "Saving output images: 70it [00:13,  5.27it/s]\n"
          ]
        }
      ]
    }
  ]
}