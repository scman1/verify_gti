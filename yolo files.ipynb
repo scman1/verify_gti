{
 "cells": [
  {
   "cell_type": "code",
   "execution_count": 4,
   "id": "ff677a4c",
   "metadata": {},
   "outputs": [],
   "source": [
    "import numpy as np\n",
    "from skimage import io#, morphology, measure\n",
    "from datetime import datetime\n",
    "from pathlib import Path\n",
    "import csv\n",
    "import sys\n",
    "from tqdm import tqdm\n",
    "import cv2\n",
    "# writes data to the given file name\n",
    "def write_csv_data(values, filename):\n",
    "    fieldnames = []\n",
    "    for item in values.keys():\n",
    "        for key in values[item].keys():\n",
    "            if not key in fieldnames:\n",
    "                fieldnames.append(key)\n",
    "    #write back to a new csv file\n",
    "    with open(filename, 'w', newline='') as csvfile:\n",
    "        writer = csv.DictWriter(csvfile, fieldnames=fieldnames)\n",
    "        writer.writeheader()\n",
    "        for key in values.keys():\n",
    "            writer.writerow(values[key])\n",
    "            \n",
    "# get the data from the csv_file, assuming first column is integer id\n",
    "def get_csv_data(input_file, id_field=''):\n",
    "    csv_data = {}\n",
    "    fieldnames = []\n",
    "    int_id = 0\n",
    "    with open(input_file, encoding=\"utf8\") as csvfile:\n",
    "        reader = csv.DictReader(csvfile)\n",
    "        for row in reader:  \n",
    "            #print(row)\n",
    "            if fieldnames == []:\n",
    "                fieldnames = list(row.keys())\n",
    "            if id_field!= '':\n",
    "                csv_data[int(row[id_field])]=row\n",
    "            else:\n",
    "                int_id+=1\n",
    "                csv_data[int_id]=row\n",
    "    return csv_data, fieldnames\n",
    "\n",
    "def show_image(img_arr, title = \"test\"):\n",
    "    cv2.imshow(title, img_arr)\n",
    "    cv2.waitKey(0)\n",
    "    cv2.destroyAllWindows()"
   ]
  },
  {
   "cell_type": "code",
   "execution_count": 5,
   "id": "af265bc2",
   "metadata": {},
   "outputs": [],
   "source": [
    "base_path = Path('E:/semseg/semsegdata/pub_data/microscopy_slides/rbgkmsi')\n",
    "labels_fn = 'gt.csv'\n",
    "labels_file = Path(base_path, labels_fn)\n",
    "x,y = get_csv_data(labels_file)\n"
   ]
  },
  {
   "cell_type": "code",
   "execution_count": 7,
   "id": "e0b66c0f",
   "metadata": {
    "scrolled": false
   },
   "outputs": [
    {
     "name": "stdout",
     "output_type": "stream",
     "text": [
      "NEW IMAGE KMIC000001_2015.12.18\n",
      "95 30 229 250 (255, 0, 0) centre: 162 140 yolo c: 0.2025 0.466666666666667\n",
      "263 63 349 209 (255, 255, 0) centre: 306 136 yolo c: 0.3825 0.453333333333333\n",
      "434 83 556 193 (255, 255, 0) centre: 495 138 yolo c: 0.61875 0.46\n",
      "696 44 740 96 (255, 255, 255) centre: 718 70 yolo c: 0.8975 0.233333333333333\n",
      "348 75 424 195 (255, 255, 0) centre: 386 135 yolo c: 0.4825 0.45\n",
      "NEW IMAGE KMIC000002_2015.12.18\n",
      "391 95 459 213 (255, 255, 0) centre: 425 154 yolo c: 0.53125 0.513333333333333\n",
      "111 11 337 237 (255, 0, 0) centre: 224 124 yolo c: 0.28 0.413333333333333\n",
      "462 90 498 198 (255, 255, 0) centre: 480 144 yolo c: 0.6 0.48\n",
      "637 103 735 177 (255, 255, 0) centre: 686 140 yolo c: 0.8575 0.466666666666667\n",
      "531 92 605 172 (255, 255, 0) centre: 568 132 yolo c: 0.71 0.44\n",
      "238 172 282 228 (255, 255, 255) centre: 260 200 yolo c: 0.325 0.666666666666667\n",
      "NEW IMAGE KMIC000003_2015.12.18\n",
      "331 71 433 155 (255, 255, 0) centre: 382 113 yolo c: 0.4775 0.376666666666667\n",
      "436 62 544 168 (255, 255, 0) centre: 490 115 yolo c: 0.6125 0.383333333333333\n",
      "101 14 279 238 (255, 0, 0) centre: 190 126 yolo c: 0.2375 0.42\n",
      "705 29 751 83 (255, 255, 255) centre: 728 56 yolo c: 0.91 0.186666666666667\n",
      "545 87 611 197 (255, 255, 0) centre: 578 142 yolo c: 0.7225 0.473333333333333\n",
      "NEW IMAGE KMIC000004_2015.12.18\n",
      "643 63 745 173 (255, 255, 0) centre: 694 118 yolo c: 0.8675 0.393333333333333\n",
      "552 70 646 178 (255, 255, 0) centre: 599 124 yolo c: 0.74875 0.413333333333333\n",
      "96 16 328 248 (255, 0, 0) centre: 212 132 yolo c: 0.265 0.44\n",
      "338 31 382 87 (255, 255, 255) centre: 360 59 yolo c: 0.45 0.196666666666667\n",
      "431 68 541 182 (255, 255, 0) centre: 486 125 yolo c: 0.6075 0.416666666666667\n",
      "NEW IMAGE KMIC000005_2015.12.18\n",
      "479 76 577 172 (255, 255, 0) centre: 528 124 yolo c: 0.66 0.413333333333333\n",
      "591 72 685 160 (255, 255, 0) centre: 638 116 yolo c: 0.7975 0.386666666666667\n",
      "86 21 310 247 (255, 0, 0) centre: 198 134 yolo c: 0.2475 0.446666666666667\n",
      "399 62 479 184 (255, 255, 0) centre: 439 123 yolo c: 0.54875 0.41\n",
      "220 173 264 225 (255, 255, 255) centre: 242 199 yolo c: 0.3025 0.663333333333333\n"
     ]
    }
   ],
   "source": [
    "old_img = \"\"\n",
    "cv_img = []\n",
    "for an_image in x:\n",
    "    current_image = x[an_image]['file']\n",
    "    if old_img == \"\" or old_img != current_image:\n",
    "        print(\"NEW IMAGE\", current_image)\n",
    "        # before changing image, show the previous one\n",
    "        if len(cv_img) != 0 :\n",
    "            #show the modified image\n",
    "            show_image(cv_img,img_file.name)\n",
    "        old_img = current_image\n",
    "        img_file = Path(base_path, current_image+'.JPG')\n",
    "        cv_img = io.imread(str(img_file))\n",
    "    img_file = Path(base_path, current_image+'.JPG')\n",
    "    cx = int(x[an_image]['centre_x'])\n",
    "    cy =  int(x[an_image]['centre_y'])\n",
    "    \n",
    "    wdt = int(x[an_image]['width'])\n",
    "    hgt = int(x[an_image]['height'])\n",
    "    \n",
    "    x1 = cx - int(wdt/2)\n",
    "    x2 = cx + int(wdt/2)\n",
    "    y1 = cy - int(hgt/2)\n",
    "    y2 = cy + int(hgt/2)\n",
    "    ycx = float(x[an_image]['yolo_cx'])\n",
    "    ycy = float(x[an_image]['yolo_cy'])\n",
    "    \n",
    "    label_colour= eval(x[an_image]['gt_class'])\n",
    "    \n",
    "    print (x1,y1,x2,y2,label_colour, \"centre:\",cx, cy, \"yolo c:\", ycx, ycy )\n",
    "    \n",
    "    cv2.rectangle(cv_img, (x1, y1), (x2, y2), label_colour[::-1], 1)\n",
    "    if an_image == 26:\n",
    "        break\n",
    "\n",
    "show_image(cv_img,img_file.name)"
   ]
  },
  {
   "cell_type": "code",
   "execution_count": null,
   "id": "bfd6b10b",
   "metadata": {},
   "outputs": [],
   "source": []
  },
  {
   "cell_type": "code",
   "execution_count": null,
   "id": "63374431",
   "metadata": {},
   "outputs": [],
   "source": []
  },
  {
   "cell_type": "code",
   "execution_count": null,
   "id": "da6764cf",
   "metadata": {},
   "outputs": [],
   "source": []
  },
  {
   "cell_type": "code",
   "execution_count": null,
   "id": "7d0026b8",
   "metadata": {},
   "outputs": [],
   "source": []
  }
 ],
 "metadata": {
  "kernelspec": {
   "display_name": "Python 3 (ipykernel)",
   "language": "python",
   "name": "python3"
  },
  "language_info": {
   "codemirror_mode": {
    "name": "ipython",
    "version": 3
   },
   "file_extension": ".py",
   "mimetype": "text/x-python",
   "name": "python",
   "nbconvert_exporter": "python",
   "pygments_lexer": "ipython3",
   "version": "3.7.6"
  }
 },
 "nbformat": 4,
 "nbformat_minor": 5
}
